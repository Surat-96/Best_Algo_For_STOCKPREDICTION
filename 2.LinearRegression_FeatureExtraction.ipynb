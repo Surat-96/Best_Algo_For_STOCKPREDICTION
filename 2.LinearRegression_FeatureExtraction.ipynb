{
 "cells": [
  {
   "cell_type": "markdown",
   "metadata": {},
   "source": [
    "# LINEAR REGRESSION FOR STOCK PRICE PREDICTION (TIME SERIES)"
   ]
  },
  {
   "cell_type": "code",
   "execution_count": 1,
   "metadata": {},
   "outputs": [],
   "source": [
    "import numpy as np\n",
    "import pandas as pd\n",
    "import matplotlib.pyplot as plt\n",
    "import seaborn as sns\n",
    "%matplotlib inline"
   ]
  },
  {
   "cell_type": "code",
   "execution_count": 2,
   "metadata": {},
   "outputs": [
    {
     "data": {
      "text/html": [
       "<div>\n",
       "<style scoped>\n",
       "    .dataframe tbody tr th:only-of-type {\n",
       "        vertical-align: middle;\n",
       "    }\n",
       "\n",
       "    .dataframe tbody tr th {\n",
       "        vertical-align: top;\n",
       "    }\n",
       "\n",
       "    .dataframe thead th {\n",
       "        text-align: right;\n",
       "    }\n",
       "</style>\n",
       "<table border=\"1\" class=\"dataframe\">\n",
       "  <thead>\n",
       "    <tr style=\"text-align: right;\">\n",
       "      <th></th>\n",
       "      <th>Date</th>\n",
       "      <th>Open</th>\n",
       "      <th>High</th>\n",
       "      <th>Low</th>\n",
       "      <th>Last</th>\n",
       "      <th>Close</th>\n",
       "      <th>Total Trade Quantity</th>\n",
       "      <th>Turnover (Lacs)</th>\n",
       "    </tr>\n",
       "  </thead>\n",
       "  <tbody>\n",
       "    <tr>\n",
       "      <td>0</td>\n",
       "      <td>2019-01-04</td>\n",
       "      <td>210.60</td>\n",
       "      <td>214.90</td>\n",
       "      <td>210.00</td>\n",
       "      <td>213.50</td>\n",
       "      <td>213.80</td>\n",
       "      <td>1213181.0</td>\n",
       "      <td>2583.05</td>\n",
       "    </tr>\n",
       "    <tr>\n",
       "      <td>1</td>\n",
       "      <td>2019-01-03</td>\n",
       "      <td>214.95</td>\n",
       "      <td>215.35</td>\n",
       "      <td>209.90</td>\n",
       "      <td>210.55</td>\n",
       "      <td>210.05</td>\n",
       "      <td>2096553.0</td>\n",
       "      <td>4433.50</td>\n",
       "    </tr>\n",
       "    <tr>\n",
       "      <td>2</td>\n",
       "      <td>2019-01-02</td>\n",
       "      <td>219.00</td>\n",
       "      <td>220.35</td>\n",
       "      <td>213.60</td>\n",
       "      <td>214.20</td>\n",
       "      <td>214.60</td>\n",
       "      <td>1081778.0</td>\n",
       "      <td>2340.31</td>\n",
       "    </tr>\n",
       "    <tr>\n",
       "      <td>3</td>\n",
       "      <td>2019-01-01</td>\n",
       "      <td>219.95</td>\n",
       "      <td>221.05</td>\n",
       "      <td>218.05</td>\n",
       "      <td>218.95</td>\n",
       "      <td>219.10</td>\n",
       "      <td>716275.0</td>\n",
       "      <td>1571.63</td>\n",
       "    </tr>\n",
       "    <tr>\n",
       "      <td>4</td>\n",
       "      <td>2018-12-31</td>\n",
       "      <td>222.00</td>\n",
       "      <td>223.65</td>\n",
       "      <td>218.85</td>\n",
       "      <td>219.55</td>\n",
       "      <td>219.40</td>\n",
       "      <td>965858.0</td>\n",
       "      <td>2131.09</td>\n",
       "    </tr>\n",
       "  </tbody>\n",
       "</table>\n",
       "</div>"
      ],
      "text/plain": [
       "         Date    Open    High     Low    Last   Close  Total Trade Quantity  \\\n",
       "0  2019-01-04  210.60  214.90  210.00  213.50  213.80             1213181.0   \n",
       "1  2019-01-03  214.95  215.35  209.90  210.55  210.05             2096553.0   \n",
       "2  2019-01-02  219.00  220.35  213.60  214.20  214.60             1081778.0   \n",
       "3  2019-01-01  219.95  221.05  218.05  218.95  219.10              716275.0   \n",
       "4  2018-12-31  222.00  223.65  218.85  219.55  219.40              965858.0   \n",
       "\n",
       "   Turnover (Lacs)  \n",
       "0          2583.05  \n",
       "1          4433.50  \n",
       "2          2340.31  \n",
       "3          1571.63  \n",
       "4          2131.09  "
      ]
     },
     "execution_count": 2,
     "metadata": {},
     "output_type": "execute_result"
    }
   ],
   "source": [
    "#Read Data from CSV file And Store It IN DATAFRAME\n",
    "df = pd.read_csv('NSE-TATAGLOBAL.csv')\n",
    "\n",
    "#print TOP 5 RECORD\n",
    "df.head()"
   ]
  },
  {
   "cell_type": "code",
   "execution_count": 3,
   "metadata": {},
   "outputs": [
    {
     "name": "stdout",
     "output_type": "stream",
     "text": [
      "<class 'pandas.core.frame.DataFrame'>\n",
      "RangeIndex: 2100 entries, 0 to 2099\n",
      "Data columns (total 8 columns):\n",
      "Date                    2100 non-null object\n",
      "Open                    2100 non-null float64\n",
      "High                    2100 non-null float64\n",
      "Low                     2100 non-null float64\n",
      "Last                    2100 non-null float64\n",
      "Close                   2100 non-null float64\n",
      "Total Trade Quantity    2100 non-null float64\n",
      "Turnover (Lacs)         2100 non-null float64\n",
      "dtypes: float64(7), object(1)\n",
      "memory usage: 131.4+ KB\n"
     ]
    }
   ],
   "source": [
    "# Data Frame Information\n",
    "df.info()"
   ]
  },
  {
   "cell_type": "code",
   "execution_count": 4,
   "metadata": {},
   "outputs": [
    {
     "data": {
      "text/plain": [
       "Date                    0\n",
       "Open                    0\n",
       "High                    0\n",
       "Low                     0\n",
       "Last                    0\n",
       "Close                   0\n",
       "Total Trade Quantity    0\n",
       "Turnover (Lacs)         0\n",
       "dtype: int64"
      ]
     },
     "execution_count": 4,
     "metadata": {},
     "output_type": "execute_result"
    }
   ],
   "source": [
    "# DATA CLEANING \n",
    "# CHECK ANY NULL VALUE IS PRESENT OR NOT\n",
    "df.isnull().sum()"
   ]
  },
  {
   "cell_type": "code",
   "execution_count": 5,
   "metadata": {},
   "outputs": [
    {
     "data": {
      "text/plain": [
       "Date                    0\n",
       "Open                    0\n",
       "High                    0\n",
       "Low                     0\n",
       "Last                    0\n",
       "Close                   0\n",
       "Total Trade Quantity    0\n",
       "Turnover (Lacs)         0\n",
       "dtype: int64"
      ]
     },
     "execution_count": 5,
     "metadata": {},
     "output_type": "execute_result"
    }
   ],
   "source": [
    "# CHECK ANY VALUE IS MISSING OR NOT\n",
    "df.isna().sum()"
   ]
  },
  {
   "cell_type": "code",
   "execution_count": 6,
   "metadata": {},
   "outputs": [
    {
     "data": {
      "text/html": [
       "<div>\n",
       "<style scoped>\n",
       "    .dataframe tbody tr th:only-of-type {\n",
       "        vertical-align: middle;\n",
       "    }\n",
       "\n",
       "    .dataframe tbody tr th {\n",
       "        vertical-align: top;\n",
       "    }\n",
       "\n",
       "    .dataframe thead th {\n",
       "        text-align: right;\n",
       "    }\n",
       "</style>\n",
       "<table border=\"1\" class=\"dataframe\">\n",
       "  <thead>\n",
       "    <tr style=\"text-align: right;\">\n",
       "      <th></th>\n",
       "      <th>Date</th>\n",
       "      <th>Open</th>\n",
       "      <th>High</th>\n",
       "      <th>Low</th>\n",
       "      <th>Last</th>\n",
       "      <th>Close</th>\n",
       "      <th>Total Trade Quantity</th>\n",
       "      <th>Turnover (Lacs)</th>\n",
       "    </tr>\n",
       "    <tr>\n",
       "      <th>Date</th>\n",
       "      <th></th>\n",
       "      <th></th>\n",
       "      <th></th>\n",
       "      <th></th>\n",
       "      <th></th>\n",
       "      <th></th>\n",
       "      <th></th>\n",
       "      <th></th>\n",
       "    </tr>\n",
       "  </thead>\n",
       "  <tbody>\n",
       "    <tr>\n",
       "      <td>2019-01-04</td>\n",
       "      <td>2019-01-04</td>\n",
       "      <td>210.60</td>\n",
       "      <td>214.90</td>\n",
       "      <td>210.00</td>\n",
       "      <td>213.50</td>\n",
       "      <td>213.80</td>\n",
       "      <td>1213181.0</td>\n",
       "      <td>2583.05</td>\n",
       "    </tr>\n",
       "    <tr>\n",
       "      <td>2019-01-03</td>\n",
       "      <td>2019-01-03</td>\n",
       "      <td>214.95</td>\n",
       "      <td>215.35</td>\n",
       "      <td>209.90</td>\n",
       "      <td>210.55</td>\n",
       "      <td>210.05</td>\n",
       "      <td>2096553.0</td>\n",
       "      <td>4433.50</td>\n",
       "    </tr>\n",
       "    <tr>\n",
       "      <td>2019-01-02</td>\n",
       "      <td>2019-01-02</td>\n",
       "      <td>219.00</td>\n",
       "      <td>220.35</td>\n",
       "      <td>213.60</td>\n",
       "      <td>214.20</td>\n",
       "      <td>214.60</td>\n",
       "      <td>1081778.0</td>\n",
       "      <td>2340.31</td>\n",
       "    </tr>\n",
       "    <tr>\n",
       "      <td>2019-01-01</td>\n",
       "      <td>2019-01-01</td>\n",
       "      <td>219.95</td>\n",
       "      <td>221.05</td>\n",
       "      <td>218.05</td>\n",
       "      <td>218.95</td>\n",
       "      <td>219.10</td>\n",
       "      <td>716275.0</td>\n",
       "      <td>1571.63</td>\n",
       "    </tr>\n",
       "    <tr>\n",
       "      <td>2018-12-31</td>\n",
       "      <td>2018-12-31</td>\n",
       "      <td>222.00</td>\n",
       "      <td>223.65</td>\n",
       "      <td>218.85</td>\n",
       "      <td>219.55</td>\n",
       "      <td>219.40</td>\n",
       "      <td>965858.0</td>\n",
       "      <td>2131.09</td>\n",
       "    </tr>\n",
       "  </tbody>\n",
       "</table>\n",
       "</div>"
      ],
      "text/plain": [
       "                 Date    Open    High     Low    Last   Close  \\\n",
       "Date                                                            \n",
       "2019-01-04 2019-01-04  210.60  214.90  210.00  213.50  213.80   \n",
       "2019-01-03 2019-01-03  214.95  215.35  209.90  210.55  210.05   \n",
       "2019-01-02 2019-01-02  219.00  220.35  213.60  214.20  214.60   \n",
       "2019-01-01 2019-01-01  219.95  221.05  218.05  218.95  219.10   \n",
       "2018-12-31 2018-12-31  222.00  223.65  218.85  219.55  219.40   \n",
       "\n",
       "            Total Trade Quantity  Turnover (Lacs)  \n",
       "Date                                               \n",
       "2019-01-04             1213181.0          2583.05  \n",
       "2019-01-03             2096553.0          4433.50  \n",
       "2019-01-02             1081778.0          2340.31  \n",
       "2019-01-01              716275.0          1571.63  \n",
       "2018-12-31              965858.0          2131.09  "
      ]
     },
     "execution_count": 6,
     "metadata": {},
     "output_type": "execute_result"
    }
   ],
   "source": [
    "# Convert Date Column data type Object to Year-Month-day\n",
    "df['Date'] = pd.to_datetime(df.Date,format='%Y-%m-%d')\n",
    "\n",
    "#setting index as date\n",
    "df.index = df['Date']\n",
    "\n",
    "df.head()"
   ]
  },
  {
   "cell_type": "code",
   "execution_count": 7,
   "metadata": {},
   "outputs": [
    {
     "name": "stdout",
     "output_type": "stream",
     "text": [
      "AFTER SORTING BY DATE(INDEX) ASC ORDER\n"
     ]
    },
    {
     "data": {
      "text/html": [
       "<div>\n",
       "<style scoped>\n",
       "    .dataframe tbody tr th:only-of-type {\n",
       "        vertical-align: middle;\n",
       "    }\n",
       "\n",
       "    .dataframe tbody tr th {\n",
       "        vertical-align: top;\n",
       "    }\n",
       "\n",
       "    .dataframe thead th {\n",
       "        text-align: right;\n",
       "    }\n",
       "</style>\n",
       "<table border=\"1\" class=\"dataframe\">\n",
       "  <thead>\n",
       "    <tr style=\"text-align: right;\">\n",
       "      <th></th>\n",
       "      <th>Date</th>\n",
       "      <th>Open</th>\n",
       "      <th>High</th>\n",
       "      <th>Low</th>\n",
       "      <th>Last</th>\n",
       "      <th>Close</th>\n",
       "      <th>Total Trade Quantity</th>\n",
       "      <th>Turnover (Lacs)</th>\n",
       "    </tr>\n",
       "    <tr>\n",
       "      <th>Date</th>\n",
       "      <th></th>\n",
       "      <th></th>\n",
       "      <th></th>\n",
       "      <th></th>\n",
       "      <th></th>\n",
       "      <th></th>\n",
       "      <th></th>\n",
       "      <th></th>\n",
       "    </tr>\n",
       "  </thead>\n",
       "  <tbody>\n",
       "    <tr>\n",
       "      <td>2010-07-21</td>\n",
       "      <td>2010-07-21</td>\n",
       "      <td>122.1</td>\n",
       "      <td>123.00</td>\n",
       "      <td>121.05</td>\n",
       "      <td>121.10</td>\n",
       "      <td>121.55</td>\n",
       "      <td>658666.0</td>\n",
       "      <td>803.56</td>\n",
       "    </tr>\n",
       "    <tr>\n",
       "      <td>2010-07-22</td>\n",
       "      <td>2010-07-22</td>\n",
       "      <td>120.3</td>\n",
       "      <td>122.00</td>\n",
       "      <td>120.25</td>\n",
       "      <td>120.75</td>\n",
       "      <td>120.90</td>\n",
       "      <td>293312.0</td>\n",
       "      <td>355.17</td>\n",
       "    </tr>\n",
       "    <tr>\n",
       "      <td>2010-07-23</td>\n",
       "      <td>2010-07-23</td>\n",
       "      <td>121.8</td>\n",
       "      <td>121.95</td>\n",
       "      <td>120.25</td>\n",
       "      <td>120.35</td>\n",
       "      <td>120.65</td>\n",
       "      <td>281312.0</td>\n",
       "      <td>340.31</td>\n",
       "    </tr>\n",
       "    <tr>\n",
       "      <td>2010-07-26</td>\n",
       "      <td>2010-07-26</td>\n",
       "      <td>120.1</td>\n",
       "      <td>121.00</td>\n",
       "      <td>117.10</td>\n",
       "      <td>117.10</td>\n",
       "      <td>117.60</td>\n",
       "      <td>658440.0</td>\n",
       "      <td>780.01</td>\n",
       "    </tr>\n",
       "    <tr>\n",
       "      <td>2010-07-27</td>\n",
       "      <td>2010-07-27</td>\n",
       "      <td>117.6</td>\n",
       "      <td>119.50</td>\n",
       "      <td>112.00</td>\n",
       "      <td>118.80</td>\n",
       "      <td>118.65</td>\n",
       "      <td>586100.0</td>\n",
       "      <td>694.98</td>\n",
       "    </tr>\n",
       "  </tbody>\n",
       "</table>\n",
       "</div>"
      ],
      "text/plain": [
       "                 Date   Open    High     Low    Last   Close  \\\n",
       "Date                                                           \n",
       "2010-07-21 2010-07-21  122.1  123.00  121.05  121.10  121.55   \n",
       "2010-07-22 2010-07-22  120.3  122.00  120.25  120.75  120.90   \n",
       "2010-07-23 2010-07-23  121.8  121.95  120.25  120.35  120.65   \n",
       "2010-07-26 2010-07-26  120.1  121.00  117.10  117.10  117.60   \n",
       "2010-07-27 2010-07-27  117.6  119.50  112.00  118.80  118.65   \n",
       "\n",
       "            Total Trade Quantity  Turnover (Lacs)  \n",
       "Date                                               \n",
       "2010-07-21              658666.0           803.56  \n",
       "2010-07-22              293312.0           355.17  \n",
       "2010-07-23              281312.0           340.31  \n",
       "2010-07-26              658440.0           780.01  \n",
       "2010-07-27              586100.0           694.98  "
      ]
     },
     "execution_count": 7,
     "metadata": {},
     "output_type": "execute_result"
    }
   ],
   "source": [
    "# SORT DATA FRAME BY INDEX ASENDING ORDER\n",
    "df = df.sort_index()\n",
    "\n",
    "print('AFTER SORTING BY DATE(INDEX) ASC ORDER')\n",
    "df.head()"
   ]
  },
  {
   "cell_type": "code",
   "execution_count": 8,
   "metadata": {},
   "outputs": [
    {
     "data": {
      "text/html": [
       "<div>\n",
       "<style scoped>\n",
       "    .dataframe tbody tr th:only-of-type {\n",
       "        vertical-align: middle;\n",
       "    }\n",
       "\n",
       "    .dataframe tbody tr th {\n",
       "        vertical-align: top;\n",
       "    }\n",
       "\n",
       "    .dataframe thead th {\n",
       "        text-align: right;\n",
       "    }\n",
       "</style>\n",
       "<table border=\"1\" class=\"dataframe\">\n",
       "  <thead>\n",
       "    <tr style=\"text-align: right;\">\n",
       "      <th></th>\n",
       "      <th>Date</th>\n",
       "      <th>Open</th>\n",
       "      <th>High</th>\n",
       "      <th>Low</th>\n",
       "      <th>Last</th>\n",
       "      <th>Close</th>\n",
       "      <th>T_Q</th>\n",
       "      <th>TOver</th>\n",
       "    </tr>\n",
       "    <tr>\n",
       "      <th>Date</th>\n",
       "      <th></th>\n",
       "      <th></th>\n",
       "      <th></th>\n",
       "      <th></th>\n",
       "      <th></th>\n",
       "      <th></th>\n",
       "      <th></th>\n",
       "      <th></th>\n",
       "    </tr>\n",
       "  </thead>\n",
       "  <tbody>\n",
       "    <tr>\n",
       "      <td>2010-07-21</td>\n",
       "      <td>2010-07-21</td>\n",
       "      <td>122.1</td>\n",
       "      <td>123.00</td>\n",
       "      <td>121.05</td>\n",
       "      <td>121.10</td>\n",
       "      <td>121.55</td>\n",
       "      <td>658666.0</td>\n",
       "      <td>803.56</td>\n",
       "    </tr>\n",
       "    <tr>\n",
       "      <td>2010-07-22</td>\n",
       "      <td>2010-07-22</td>\n",
       "      <td>120.3</td>\n",
       "      <td>122.00</td>\n",
       "      <td>120.25</td>\n",
       "      <td>120.75</td>\n",
       "      <td>120.90</td>\n",
       "      <td>293312.0</td>\n",
       "      <td>355.17</td>\n",
       "    </tr>\n",
       "    <tr>\n",
       "      <td>2010-07-23</td>\n",
       "      <td>2010-07-23</td>\n",
       "      <td>121.8</td>\n",
       "      <td>121.95</td>\n",
       "      <td>120.25</td>\n",
       "      <td>120.35</td>\n",
       "      <td>120.65</td>\n",
       "      <td>281312.0</td>\n",
       "      <td>340.31</td>\n",
       "    </tr>\n",
       "    <tr>\n",
       "      <td>2010-07-26</td>\n",
       "      <td>2010-07-26</td>\n",
       "      <td>120.1</td>\n",
       "      <td>121.00</td>\n",
       "      <td>117.10</td>\n",
       "      <td>117.10</td>\n",
       "      <td>117.60</td>\n",
       "      <td>658440.0</td>\n",
       "      <td>780.01</td>\n",
       "    </tr>\n",
       "    <tr>\n",
       "      <td>2010-07-27</td>\n",
       "      <td>2010-07-27</td>\n",
       "      <td>117.6</td>\n",
       "      <td>119.50</td>\n",
       "      <td>112.00</td>\n",
       "      <td>118.80</td>\n",
       "      <td>118.65</td>\n",
       "      <td>586100.0</td>\n",
       "      <td>694.98</td>\n",
       "    </tr>\n",
       "  </tbody>\n",
       "</table>\n",
       "</div>"
      ],
      "text/plain": [
       "                 Date   Open    High     Low    Last   Close       T_Q   TOver\n",
       "Date                                                                          \n",
       "2010-07-21 2010-07-21  122.1  123.00  121.05  121.10  121.55  658666.0  803.56\n",
       "2010-07-22 2010-07-22  120.3  122.00  120.25  120.75  120.90  293312.0  355.17\n",
       "2010-07-23 2010-07-23  121.8  121.95  120.25  120.35  120.65  281312.0  340.31\n",
       "2010-07-26 2010-07-26  120.1  121.00  117.10  117.10  117.60  658440.0  780.01\n",
       "2010-07-27 2010-07-27  117.6  119.50  112.00  118.80  118.65  586100.0  694.98"
      ]
     },
     "execution_count": 8,
     "metadata": {},
     "output_type": "execute_result"
    }
   ],
   "source": [
    "# changing columns NAME with rename() \n",
    "data_changed_colname = df.rename(columns = {\"Total Trade Quantity\": \"T_Q\", \n",
    "                                            \"Turnover (Lacs)\":\"TOver\"\n",
    "                                           }) \n",
    "\n",
    "data_changed_colname.head()"
   ]
  },
  {
   "cell_type": "code",
   "execution_count": 9,
   "metadata": {},
   "outputs": [
    {
     "name": "stdout",
     "output_type": "stream",
     "text": [
      "VIEW CORELATION MATRIX \n"
     ]
    },
    {
     "data": {
      "text/html": [
       "<style  type=\"text/css\" >\n",
       "    #T_0e32b134_8546_11ea_bd09_f875a4351525row0_col0 {\n",
       "            background-color:  #023858;\n",
       "            color:  #f1f1f1;\n",
       "        }    #T_0e32b134_8546_11ea_bd09_f875a4351525row0_col1 {\n",
       "            background-color:  #023858;\n",
       "            color:  #f1f1f1;\n",
       "        }    #T_0e32b134_8546_11ea_bd09_f875a4351525row0_col2 {\n",
       "            background-color:  #023858;\n",
       "            color:  #f1f1f1;\n",
       "        }    #T_0e32b134_8546_11ea_bd09_f875a4351525row0_col3 {\n",
       "            background-color:  #023858;\n",
       "            color:  #f1f1f1;\n",
       "        }    #T_0e32b134_8546_11ea_bd09_f875a4351525row0_col4 {\n",
       "            background-color:  #023858;\n",
       "            color:  #f1f1f1;\n",
       "        }    #T_0e32b134_8546_11ea_bd09_f875a4351525row0_col5 {\n",
       "            background-color:  #fef6fa;\n",
       "            color:  #000000;\n",
       "        }    #T_0e32b134_8546_11ea_bd09_f875a4351525row0_col6 {\n",
       "            background-color:  #fef6fa;\n",
       "            color:  #000000;\n",
       "        }    #T_0e32b134_8546_11ea_bd09_f875a4351525row1_col0 {\n",
       "            background-color:  #023858;\n",
       "            color:  #f1f1f1;\n",
       "        }    #T_0e32b134_8546_11ea_bd09_f875a4351525row1_col1 {\n",
       "            background-color:  #023858;\n",
       "            color:  #f1f1f1;\n",
       "        }    #T_0e32b134_8546_11ea_bd09_f875a4351525row1_col2 {\n",
       "            background-color:  #023858;\n",
       "            color:  #f1f1f1;\n",
       "        }    #T_0e32b134_8546_11ea_bd09_f875a4351525row1_col3 {\n",
       "            background-color:  #023858;\n",
       "            color:  #f1f1f1;\n",
       "        }    #T_0e32b134_8546_11ea_bd09_f875a4351525row1_col4 {\n",
       "            background-color:  #023858;\n",
       "            color:  #f1f1f1;\n",
       "        }    #T_0e32b134_8546_11ea_bd09_f875a4351525row1_col5 {\n",
       "            background-color:  #f9f2f8;\n",
       "            color:  #000000;\n",
       "        }    #T_0e32b134_8546_11ea_bd09_f875a4351525row1_col6 {\n",
       "            background-color:  #f7f0f7;\n",
       "            color:  #000000;\n",
       "        }    #T_0e32b134_8546_11ea_bd09_f875a4351525row2_col0 {\n",
       "            background-color:  #023858;\n",
       "            color:  #f1f1f1;\n",
       "        }    #T_0e32b134_8546_11ea_bd09_f875a4351525row2_col1 {\n",
       "            background-color:  #023858;\n",
       "            color:  #f1f1f1;\n",
       "        }    #T_0e32b134_8546_11ea_bd09_f875a4351525row2_col2 {\n",
       "            background-color:  #023858;\n",
       "            color:  #f1f1f1;\n",
       "        }    #T_0e32b134_8546_11ea_bd09_f875a4351525row2_col3 {\n",
       "            background-color:  #023858;\n",
       "            color:  #f1f1f1;\n",
       "        }    #T_0e32b134_8546_11ea_bd09_f875a4351525row2_col4 {\n",
       "            background-color:  #023858;\n",
       "            color:  #f1f1f1;\n",
       "        }    #T_0e32b134_8546_11ea_bd09_f875a4351525row2_col5 {\n",
       "            background-color:  #fff7fb;\n",
       "            color:  #000000;\n",
       "        }    #T_0e32b134_8546_11ea_bd09_f875a4351525row2_col6 {\n",
       "            background-color:  #fff7fb;\n",
       "            color:  #000000;\n",
       "        }    #T_0e32b134_8546_11ea_bd09_f875a4351525row3_col0 {\n",
       "            background-color:  #023858;\n",
       "            color:  #f1f1f1;\n",
       "        }    #T_0e32b134_8546_11ea_bd09_f875a4351525row3_col1 {\n",
       "            background-color:  #023858;\n",
       "            color:  #f1f1f1;\n",
       "        }    #T_0e32b134_8546_11ea_bd09_f875a4351525row3_col2 {\n",
       "            background-color:  #023858;\n",
       "            color:  #f1f1f1;\n",
       "        }    #T_0e32b134_8546_11ea_bd09_f875a4351525row3_col3 {\n",
       "            background-color:  #023858;\n",
       "            color:  #f1f1f1;\n",
       "        }    #T_0e32b134_8546_11ea_bd09_f875a4351525row3_col4 {\n",
       "            background-color:  #023858;\n",
       "            color:  #f1f1f1;\n",
       "        }    #T_0e32b134_8546_11ea_bd09_f875a4351525row3_col5 {\n",
       "            background-color:  #fbf3f9;\n",
       "            color:  #000000;\n",
       "        }    #T_0e32b134_8546_11ea_bd09_f875a4351525row3_col6 {\n",
       "            background-color:  #faf2f8;\n",
       "            color:  #000000;\n",
       "        }    #T_0e32b134_8546_11ea_bd09_f875a4351525row4_col0 {\n",
       "            background-color:  #023858;\n",
       "            color:  #f1f1f1;\n",
       "        }    #T_0e32b134_8546_11ea_bd09_f875a4351525row4_col1 {\n",
       "            background-color:  #023858;\n",
       "            color:  #f1f1f1;\n",
       "        }    #T_0e32b134_8546_11ea_bd09_f875a4351525row4_col2 {\n",
       "            background-color:  #023858;\n",
       "            color:  #f1f1f1;\n",
       "        }    #T_0e32b134_8546_11ea_bd09_f875a4351525row4_col3 {\n",
       "            background-color:  #023858;\n",
       "            color:  #f1f1f1;\n",
       "        }    #T_0e32b134_8546_11ea_bd09_f875a4351525row4_col4 {\n",
       "            background-color:  #023858;\n",
       "            color:  #f1f1f1;\n",
       "        }    #T_0e32b134_8546_11ea_bd09_f875a4351525row4_col5 {\n",
       "            background-color:  #fbf3f9;\n",
       "            color:  #000000;\n",
       "        }    #T_0e32b134_8546_11ea_bd09_f875a4351525row4_col6 {\n",
       "            background-color:  #faf2f8;\n",
       "            color:  #000000;\n",
       "        }    #T_0e32b134_8546_11ea_bd09_f875a4351525row5_col0 {\n",
       "            background-color:  #fff7fb;\n",
       "            color:  #000000;\n",
       "        }    #T_0e32b134_8546_11ea_bd09_f875a4351525row5_col1 {\n",
       "            background-color:  #fff7fb;\n",
       "            color:  #000000;\n",
       "        }    #T_0e32b134_8546_11ea_bd09_f875a4351525row5_col2 {\n",
       "            background-color:  #fff7fb;\n",
       "            color:  #000000;\n",
       "        }    #T_0e32b134_8546_11ea_bd09_f875a4351525row5_col3 {\n",
       "            background-color:  #fff7fb;\n",
       "            color:  #000000;\n",
       "        }    #T_0e32b134_8546_11ea_bd09_f875a4351525row5_col4 {\n",
       "            background-color:  #fff7fb;\n",
       "            color:  #000000;\n",
       "        }    #T_0e32b134_8546_11ea_bd09_f875a4351525row5_col5 {\n",
       "            background-color:  #023858;\n",
       "            color:  #f1f1f1;\n",
       "        }    #T_0e32b134_8546_11ea_bd09_f875a4351525row5_col6 {\n",
       "            background-color:  #04639b;\n",
       "            color:  #f1f1f1;\n",
       "        }    #T_0e32b134_8546_11ea_bd09_f875a4351525row6_col0 {\n",
       "            background-color:  #abbfdc;\n",
       "            color:  #000000;\n",
       "        }    #T_0e32b134_8546_11ea_bd09_f875a4351525row6_col1 {\n",
       "            background-color:  #a8bedc;\n",
       "            color:  #000000;\n",
       "        }    #T_0e32b134_8546_11ea_bd09_f875a4351525row6_col2 {\n",
       "            background-color:  #acc0dd;\n",
       "            color:  #000000;\n",
       "        }    #T_0e32b134_8546_11ea_bd09_f875a4351525row6_col3 {\n",
       "            background-color:  #a9bfdc;\n",
       "            color:  #000000;\n",
       "        }    #T_0e32b134_8546_11ea_bd09_f875a4351525row6_col4 {\n",
       "            background-color:  #a9bfdc;\n",
       "            color:  #000000;\n",
       "        }    #T_0e32b134_8546_11ea_bd09_f875a4351525row6_col5 {\n",
       "            background-color:  #045788;\n",
       "            color:  #f1f1f1;\n",
       "        }    #T_0e32b134_8546_11ea_bd09_f875a4351525row6_col6 {\n",
       "            background-color:  #023858;\n",
       "            color:  #f1f1f1;\n",
       "        }</style><table id=\"T_0e32b134_8546_11ea_bd09_f875a4351525\" ><thead>    <tr>        <th class=\"blank level0\" ></th>        <th class=\"col_heading level0 col0\" >Open</th>        <th class=\"col_heading level0 col1\" >High</th>        <th class=\"col_heading level0 col2\" >Low</th>        <th class=\"col_heading level0 col3\" >Last</th>        <th class=\"col_heading level0 col4\" >Close</th>        <th class=\"col_heading level0 col5\" >T_Q</th>        <th class=\"col_heading level0 col6\" >TOver</th>    </tr></thead><tbody>\n",
       "                <tr>\n",
       "                        <th id=\"T_0e32b134_8546_11ea_bd09_f875a4351525level0_row0\" class=\"row_heading level0 row0\" >Open</th>\n",
       "                        <td id=\"T_0e32b134_8546_11ea_bd09_f875a4351525row0_col0\" class=\"data row0 col0\" >1</td>\n",
       "                        <td id=\"T_0e32b134_8546_11ea_bd09_f875a4351525row0_col1\" class=\"data row0 col1\" >0.998996</td>\n",
       "                        <td id=\"T_0e32b134_8546_11ea_bd09_f875a4351525row0_col2\" class=\"data row0 col2\" >0.998829</td>\n",
       "                        <td id=\"T_0e32b134_8546_11ea_bd09_f875a4351525row0_col3\" class=\"data row0 col3\" >0.997776</td>\n",
       "                        <td id=\"T_0e32b134_8546_11ea_bd09_f875a4351525row0_col4\" class=\"data row0 col4\" >0.997841</td>\n",
       "                        <td id=\"T_0e32b134_8546_11ea_bd09_f875a4351525row0_col5\" class=\"data row0 col5\" >0.365334</td>\n",
       "                        <td id=\"T_0e32b134_8546_11ea_bd09_f875a4351525row0_col6\" class=\"data row0 col6\" >0.594218</td>\n",
       "            </tr>\n",
       "            <tr>\n",
       "                        <th id=\"T_0e32b134_8546_11ea_bd09_f875a4351525level0_row1\" class=\"row_heading level0 row1\" >High</th>\n",
       "                        <td id=\"T_0e32b134_8546_11ea_bd09_f875a4351525row1_col0\" class=\"data row1 col0\" >0.998996</td>\n",
       "                        <td id=\"T_0e32b134_8546_11ea_bd09_f875a4351525row1_col1\" class=\"data row1 col1\" >1</td>\n",
       "                        <td id=\"T_0e32b134_8546_11ea_bd09_f875a4351525row1_col2\" class=\"data row1 col2\" >0.998774</td>\n",
       "                        <td id=\"T_0e32b134_8546_11ea_bd09_f875a4351525row1_col3\" class=\"data row1 col3\" >0.999154</td>\n",
       "                        <td id=\"T_0e32b134_8546_11ea_bd09_f875a4351525row1_col4\" class=\"data row1 col4\" >0.999197</td>\n",
       "                        <td id=\"T_0e32b134_8546_11ea_bd09_f875a4351525row1_col5\" class=\"data row1 col5\" >0.385175</td>\n",
       "                        <td id=\"T_0e32b134_8546_11ea_bd09_f875a4351525row1_col6\" class=\"data row1 col6\" >0.611422</td>\n",
       "            </tr>\n",
       "            <tr>\n",
       "                        <th id=\"T_0e32b134_8546_11ea_bd09_f875a4351525level0_row2\" class=\"row_heading level0 row2\" >Low</th>\n",
       "                        <td id=\"T_0e32b134_8546_11ea_bd09_f875a4351525row2_col0\" class=\"data row2 col0\" >0.998829</td>\n",
       "                        <td id=\"T_0e32b134_8546_11ea_bd09_f875a4351525row2_col1\" class=\"data row2 col1\" >0.998774</td>\n",
       "                        <td id=\"T_0e32b134_8546_11ea_bd09_f875a4351525row2_col2\" class=\"data row2 col2\" >1</td>\n",
       "                        <td id=\"T_0e32b134_8546_11ea_bd09_f875a4351525row2_col3\" class=\"data row2 col3\" >0.999038</td>\n",
       "                        <td id=\"T_0e32b134_8546_11ea_bd09_f875a4351525row2_col4\" class=\"data row2 col4\" >0.999106</td>\n",
       "                        <td id=\"T_0e32b134_8546_11ea_bd09_f875a4351525row2_col5\" class=\"data row2 col5\" >0.359832</td>\n",
       "                        <td id=\"T_0e32b134_8546_11ea_bd09_f875a4351525row2_col6\" class=\"data row2 col6\" >0.589656</td>\n",
       "            </tr>\n",
       "            <tr>\n",
       "                        <th id=\"T_0e32b134_8546_11ea_bd09_f875a4351525level0_row3\" class=\"row_heading level0 row3\" >Last</th>\n",
       "                        <td id=\"T_0e32b134_8546_11ea_bd09_f875a4351525row3_col0\" class=\"data row3 col0\" >0.997776</td>\n",
       "                        <td id=\"T_0e32b134_8546_11ea_bd09_f875a4351525row3_col1\" class=\"data row3 col1\" >0.999154</td>\n",
       "                        <td id=\"T_0e32b134_8546_11ea_bd09_f875a4351525row3_col2\" class=\"data row3 col2\" >0.999038</td>\n",
       "                        <td id=\"T_0e32b134_8546_11ea_bd09_f875a4351525row3_col3\" class=\"data row3 col3\" >1</td>\n",
       "                        <td id=\"T_0e32b134_8546_11ea_bd09_f875a4351525row3_col4\" class=\"data row3 col4\" >0.99996</td>\n",
       "                        <td id=\"T_0e32b134_8546_11ea_bd09_f875a4351525row3_col5\" class=\"data row3 col5\" >0.378315</td>\n",
       "                        <td id=\"T_0e32b134_8546_11ea_bd09_f875a4351525row3_col6\" class=\"data row3 col6\" >0.605601</td>\n",
       "            </tr>\n",
       "            <tr>\n",
       "                        <th id=\"T_0e32b134_8546_11ea_bd09_f875a4351525level0_row4\" class=\"row_heading level0 row4\" >Close</th>\n",
       "                        <td id=\"T_0e32b134_8546_11ea_bd09_f875a4351525row4_col0\" class=\"data row4 col0\" >0.997841</td>\n",
       "                        <td id=\"T_0e32b134_8546_11ea_bd09_f875a4351525row4_col1\" class=\"data row4 col1\" >0.999197</td>\n",
       "                        <td id=\"T_0e32b134_8546_11ea_bd09_f875a4351525row4_col2\" class=\"data row4 col2\" >0.999106</td>\n",
       "                        <td id=\"T_0e32b134_8546_11ea_bd09_f875a4351525row4_col3\" class=\"data row4 col3\" >0.99996</td>\n",
       "                        <td id=\"T_0e32b134_8546_11ea_bd09_f875a4351525row4_col4\" class=\"data row4 col4\" >1</td>\n",
       "                        <td id=\"T_0e32b134_8546_11ea_bd09_f875a4351525row4_col5\" class=\"data row4 col5\" >0.377886</td>\n",
       "                        <td id=\"T_0e32b134_8546_11ea_bd09_f875a4351525row4_col6\" class=\"data row4 col6\" >0.605215</td>\n",
       "            </tr>\n",
       "            <tr>\n",
       "                        <th id=\"T_0e32b134_8546_11ea_bd09_f875a4351525level0_row5\" class=\"row_heading level0 row5\" >T_Q</th>\n",
       "                        <td id=\"T_0e32b134_8546_11ea_bd09_f875a4351525row5_col0\" class=\"data row5 col0\" >0.365334</td>\n",
       "                        <td id=\"T_0e32b134_8546_11ea_bd09_f875a4351525row5_col1\" class=\"data row5 col1\" >0.385175</td>\n",
       "                        <td id=\"T_0e32b134_8546_11ea_bd09_f875a4351525row5_col2\" class=\"data row5 col2\" >0.359832</td>\n",
       "                        <td id=\"T_0e32b134_8546_11ea_bd09_f875a4351525row5_col3\" class=\"data row5 col3\" >0.378315</td>\n",
       "                        <td id=\"T_0e32b134_8546_11ea_bd09_f875a4351525row5_col4\" class=\"data row5 col4\" >0.377886</td>\n",
       "                        <td id=\"T_0e32b134_8546_11ea_bd09_f875a4351525row5_col5\" class=\"data row5 col5\" >1</td>\n",
       "                        <td id=\"T_0e32b134_8546_11ea_bd09_f875a4351525row5_col6\" class=\"data row5 col6\" >0.927437</td>\n",
       "            </tr>\n",
       "            <tr>\n",
       "                        <th id=\"T_0e32b134_8546_11ea_bd09_f875a4351525level0_row6\" class=\"row_heading level0 row6\" >TOver</th>\n",
       "                        <td id=\"T_0e32b134_8546_11ea_bd09_f875a4351525row6_col0\" class=\"data row6 col0\" >0.594218</td>\n",
       "                        <td id=\"T_0e32b134_8546_11ea_bd09_f875a4351525row6_col1\" class=\"data row6 col1\" >0.611422</td>\n",
       "                        <td id=\"T_0e32b134_8546_11ea_bd09_f875a4351525row6_col2\" class=\"data row6 col2\" >0.589656</td>\n",
       "                        <td id=\"T_0e32b134_8546_11ea_bd09_f875a4351525row6_col3\" class=\"data row6 col3\" >0.605601</td>\n",
       "                        <td id=\"T_0e32b134_8546_11ea_bd09_f875a4351525row6_col4\" class=\"data row6 col4\" >0.605215</td>\n",
       "                        <td id=\"T_0e32b134_8546_11ea_bd09_f875a4351525row6_col5\" class=\"data row6 col5\" >0.927437</td>\n",
       "                        <td id=\"T_0e32b134_8546_11ea_bd09_f875a4351525row6_col6\" class=\"data row6 col6\" >1</td>\n",
       "            </tr>\n",
       "    </tbody></table>"
      ],
      "text/plain": [
       "<pandas.io.formats.style.Styler at 0x1f910dff148>"
      ]
     },
     "execution_count": 9,
     "metadata": {},
     "output_type": "execute_result"
    }
   ],
   "source": [
    "print('VIEW CORELATION MATRIX ')\n",
    "corel_matrix = data_changed_colname.corr()\n",
    "\n",
    "# PRINT CORELATION MATRIX USING COLOR\n",
    "corel_matrix.style.background_gradient()"
   ]
  },
  {
   "cell_type": "code",
   "execution_count": 10,
   "metadata": {},
   "outputs": [
    {
     "data": {
      "image/png": "[encoded data removed]",
      "text/plain": [
       "<Figure size 720x432 with 2 Axes>"
      ]
     },
     "metadata": {
      "needs_background": "light"
     },
     "output_type": "display_data"
    }
   ],
   "source": [
    "plt.figure(figsize=(10,6))\n",
    "\n",
    "sns.set(font_scale=1.2)\n",
    "\n",
    "heat_map = sns.heatmap(corel_matrix, annot = True)\n",
    "\n",
    "heat_map.set_yticklabels(heat_map.get_yticklabels(), rotation=25)\n",
    "heat_map.set_xticklabels(heat_map.get_xticklabels(), rotation=25)\n",
    "\n",
    "plt.suptitle('HEATMAP REPRESENTATION', fontsize=15, color='g')\n",
    "plt.show()"
   ]
  },
  {
   "cell_type": "code",
   "execution_count": 11,
   "metadata": {},
   "outputs": [
    {
     "name": "stdout",
     "output_type": "stream",
     "text": [
      "SHARE PRICE WILL CHANGE ON DIFFERENT CIRCUMSTANCE - SO WE WILL NOT REMOVE OUTLIER VALUE\n"
     ]
    },
    {
     "data": {
      "image/png": "[encoded data removed]",
      "text/plain": [
       "<Figure size 432x288 with 1 Axes>"
      ]
     },
     "metadata": {},
     "output_type": "display_data"
    }
   ],
   "source": [
    "sns.boxplot(x=df['Close'])\n",
    "\n",
    "plt.title('BOX PLOT FOR SHARE CLOSE PRICE - Uni-variate(one variable outlier analysis)', fontsize=15, color='g')\n",
    "\n",
    "print('SHARE PRICE WILL CHANGE ON DIFFERENT CIRCUMSTANCE - SO WE WILL NOT REMOVE OUTLIER VALUE')"
   ]
  },
  {
   "cell_type": "code",
   "execution_count": 12,
   "metadata": {},
   "outputs": [
    {
     "data": {
      "text/plain": [
       "Text(0.5, 1.0, 'HISTOGRAM PLOT FOR SHARE CLOSEING PRICE ')"
      ]
     },
     "execution_count": 12,
     "metadata": {},
     "output_type": "execute_result"
    },
    {
     "data": {
      "image/png": "[encoded data removed]",
      "text/plain": [
       "<Figure size 432x288 with 1 Axes>"
      ]
     },
     "metadata": {},
     "output_type": "display_data"
    }
   ],
   "source": [
    "plt.hist(df['Close'])\n",
    "\n",
    "plt.title('HISTOGRAM PLOT FOR SHARE CLOSEING PRICE ', fontsize=15, color='g')"
   ]
  },
  {
   "cell_type": "code",
   "execution_count": 13,
   "metadata": {},
   "outputs": [
    {
     "data": {
      "text/plain": [
       "<matplotlib.legend.Legend at 0x1f911713c08>"
      ]
     },
     "execution_count": 13,
     "metadata": {},
     "output_type": "execute_result"
    },
    {
     "data": {
      "image/png": "[encoded data removed]",
      "text/plain": [
       "<Figure size 1152x648 with 1 Axes>"
      ]
     },
     "metadata": {},
     "output_type": "display_data"
    }
   ],
   "source": [
    "from pandas.plotting import register_matplotlib_converters\n",
    "\n",
    "pd.plotting.register_matplotlib_converters()\n",
    "\n",
    "# Plot everything by leveraging the very powerful matplotlib package\n",
    "fig, ax = plt.subplots(figsize=(16,9))\n",
    "\n",
    "ax.plot(df['Close'], label='Share Closing Price')\n",
    "\n",
    "ax.set_xlabel('DATES - YEAR/MONTH/DAY',fontsize=14, color='r')\n",
    "ax.set_ylabel('SHARE CLOSING PRICE',fontsize=14, color='r')\n",
    "ax.set_title('ORIGINAL CLOSING PRICE PLOT', fontsize=20, color='g')\n",
    "ax.legend()"
   ]
  },
  {
   "cell_type": "code",
   "execution_count": 14,
   "metadata": {},
   "outputs": [
    {
     "data": {
      "text/html": [
       "<div>\n",
       "<style scoped>\n",
       "    .dataframe tbody tr th:only-of-type {\n",
       "        vertical-align: middle;\n",
       "    }\n",
       "\n",
       "    .dataframe tbody tr th {\n",
       "        vertical-align: top;\n",
       "    }\n",
       "\n",
       "    .dataframe thead th {\n",
       "        text-align: right;\n",
       "    }\n",
       "</style>\n",
       "<table border=\"1\" class=\"dataframe\">\n",
       "  <thead>\n",
       "    <tr style=\"text-align: right;\">\n",
       "      <th></th>\n",
       "      <th>Date</th>\n",
       "      <th>Close</th>\n",
       "    </tr>\n",
       "  </thead>\n",
       "  <tbody>\n",
       "    <tr>\n",
       "      <td>0</td>\n",
       "      <td>2010-07-21</td>\n",
       "      <td>121.55</td>\n",
       "    </tr>\n",
       "    <tr>\n",
       "      <td>1</td>\n",
       "      <td>2010-07-22</td>\n",
       "      <td>120.90</td>\n",
       "    </tr>\n",
       "    <tr>\n",
       "      <td>2</td>\n",
       "      <td>2010-07-23</td>\n",
       "      <td>120.65</td>\n",
       "    </tr>\n",
       "    <tr>\n",
       "      <td>3</td>\n",
       "      <td>2010-07-26</td>\n",
       "      <td>117.60</td>\n",
       "    </tr>\n",
       "    <tr>\n",
       "      <td>4</td>\n",
       "      <td>2010-07-27</td>\n",
       "      <td>118.65</td>\n",
       "    </tr>\n",
       "  </tbody>\n",
       "</table>\n",
       "</div>"
      ],
      "text/plain": [
       "        Date   Close\n",
       "0 2010-07-21  121.55\n",
       "1 2010-07-22  120.90\n",
       "2 2010-07-23  120.65\n",
       "3 2010-07-26  117.60\n",
       "4 2010-07-27  118.65"
      ]
     },
     "execution_count": 14,
     "metadata": {},
     "output_type": "execute_result"
    }
   ],
   "source": [
    "df1 =  df.loc[:,['Date','Close']]\n",
    "df1.index = range(len(df))\n",
    "df1.head()"
   ]
  },
  {
   "cell_type": "markdown",
   "metadata": {},
   "source": [
    "# FEATURE EXTRACTING"
   ]
  },
  {
   "cell_type": "code",
   "execution_count": 15,
   "metadata": {},
   "outputs": [
    {
     "data": {
      "text/html": [
       "<div>\n",
       "<style scoped>\n",
       "    .dataframe tbody tr th:only-of-type {\n",
       "        vertical-align: middle;\n",
       "    }\n",
       "\n",
       "    .dataframe tbody tr th {\n",
       "        vertical-align: top;\n",
       "    }\n",
       "\n",
       "    .dataframe thead th {\n",
       "        text-align: right;\n",
       "    }\n",
       "</style>\n",
       "<table border=\"1\" class=\"dataframe\">\n",
       "  <thead>\n",
       "    <tr style=\"text-align: right;\">\n",
       "      <th></th>\n",
       "      <th>year</th>\n",
       "      <th>month</th>\n",
       "      <th>day</th>\n",
       "      <th>dayofyear</th>\n",
       "      <th>weekofyear</th>\n",
       "      <th>dayofweek</th>\n",
       "      <th>weekday</th>\n",
       "      <th>quarter</th>\n",
       "      <th>Close</th>\n",
       "      <th>Date</th>\n",
       "    </tr>\n",
       "  </thead>\n",
       "  <tbody>\n",
       "    <tr>\n",
       "      <td>0</td>\n",
       "      <td>2010</td>\n",
       "      <td>7</td>\n",
       "      <td>21</td>\n",
       "      <td>202</td>\n",
       "      <td>29</td>\n",
       "      <td>2</td>\n",
       "      <td>2</td>\n",
       "      <td>3</td>\n",
       "      <td>121.55</td>\n",
       "      <td>2010-07-21</td>\n",
       "    </tr>\n",
       "    <tr>\n",
       "      <td>1</td>\n",
       "      <td>2010</td>\n",
       "      <td>7</td>\n",
       "      <td>22</td>\n",
       "      <td>203</td>\n",
       "      <td>29</td>\n",
       "      <td>3</td>\n",
       "      <td>3</td>\n",
       "      <td>3</td>\n",
       "      <td>120.90</td>\n",
       "      <td>2010-07-22</td>\n",
       "    </tr>\n",
       "    <tr>\n",
       "      <td>2</td>\n",
       "      <td>2010</td>\n",
       "      <td>7</td>\n",
       "      <td>23</td>\n",
       "      <td>204</td>\n",
       "      <td>29</td>\n",
       "      <td>4</td>\n",
       "      <td>4</td>\n",
       "      <td>3</td>\n",
       "      <td>120.65</td>\n",
       "      <td>2010-07-23</td>\n",
       "    </tr>\n",
       "    <tr>\n",
       "      <td>3</td>\n",
       "      <td>2010</td>\n",
       "      <td>7</td>\n",
       "      <td>26</td>\n",
       "      <td>207</td>\n",
       "      <td>30</td>\n",
       "      <td>0</td>\n",
       "      <td>0</td>\n",
       "      <td>3</td>\n",
       "      <td>117.60</td>\n",
       "      <td>2010-07-26</td>\n",
       "    </tr>\n",
       "    <tr>\n",
       "      <td>4</td>\n",
       "      <td>2010</td>\n",
       "      <td>7</td>\n",
       "      <td>27</td>\n",
       "      <td>208</td>\n",
       "      <td>30</td>\n",
       "      <td>1</td>\n",
       "      <td>1</td>\n",
       "      <td>3</td>\n",
       "      <td>118.65</td>\n",
       "      <td>2010-07-27</td>\n",
       "    </tr>\n",
       "    <tr>\n",
       "      <td>5</td>\n",
       "      <td>2010</td>\n",
       "      <td>7</td>\n",
       "      <td>28</td>\n",
       "      <td>209</td>\n",
       "      <td>30</td>\n",
       "      <td>2</td>\n",
       "      <td>2</td>\n",
       "      <td>3</td>\n",
       "      <td>118.25</td>\n",
       "      <td>2010-07-28</td>\n",
       "    </tr>\n",
       "    <tr>\n",
       "      <td>6</td>\n",
       "      <td>2010</td>\n",
       "      <td>7</td>\n",
       "      <td>29</td>\n",
       "      <td>210</td>\n",
       "      <td>30</td>\n",
       "      <td>3</td>\n",
       "      <td>3</td>\n",
       "      <td>3</td>\n",
       "      <td>116.60</td>\n",
       "      <td>2010-07-29</td>\n",
       "    </tr>\n",
       "    <tr>\n",
       "      <td>7</td>\n",
       "      <td>2010</td>\n",
       "      <td>7</td>\n",
       "      <td>30</td>\n",
       "      <td>211</td>\n",
       "      <td>30</td>\n",
       "      <td>4</td>\n",
       "      <td>4</td>\n",
       "      <td>3</td>\n",
       "      <td>116.05</td>\n",
       "      <td>2010-07-30</td>\n",
       "    </tr>\n",
       "    <tr>\n",
       "      <td>8</td>\n",
       "      <td>2010</td>\n",
       "      <td>8</td>\n",
       "      <td>2</td>\n",
       "      <td>214</td>\n",
       "      <td>31</td>\n",
       "      <td>0</td>\n",
       "      <td>0</td>\n",
       "      <td>3</td>\n",
       "      <td>117.30</td>\n",
       "      <td>2010-08-02</td>\n",
       "    </tr>\n",
       "    <tr>\n",
       "      <td>9</td>\n",
       "      <td>2010</td>\n",
       "      <td>8</td>\n",
       "      <td>3</td>\n",
       "      <td>215</td>\n",
       "      <td>31</td>\n",
       "      <td>1</td>\n",
       "      <td>1</td>\n",
       "      <td>3</td>\n",
       "      <td>118.30</td>\n",
       "      <td>2010-08-03</td>\n",
       "    </tr>\n",
       "  </tbody>\n",
       "</table>\n",
       "</div>"
      ],
      "text/plain": [
       "   year  month  day  dayofyear  weekofyear  dayofweek  weekday  quarter  \\\n",
       "0  2010      7   21        202          29          2        2        3   \n",
       "1  2010      7   22        203          29          3        3        3   \n",
       "2  2010      7   23        204          29          4        4        3   \n",
       "3  2010      7   26        207          30          0        0        3   \n",
       "4  2010      7   27        208          30          1        1        3   \n",
       "5  2010      7   28        209          30          2        2        3   \n",
       "6  2010      7   29        210          30          3        3        3   \n",
       "7  2010      7   30        211          30          4        4        3   \n",
       "8  2010      8    2        214          31          0        0        3   \n",
       "9  2010      8    3        215          31          1        1        3   \n",
       "\n",
       "    Close       Date  \n",
       "0  121.55 2010-07-21  \n",
       "1  120.90 2010-07-22  \n",
       "2  120.65 2010-07-23  \n",
       "3  117.60 2010-07-26  \n",
       "4  118.65 2010-07-27  \n",
       "5  118.25 2010-07-28  \n",
       "6  116.60 2010-07-29  \n",
       "7  116.05 2010-07-30  \n",
       "8  117.30 2010-08-02  \n",
       "9  118.30 2010-08-03  "
      ]
     },
     "execution_count": 15,
     "metadata": {},
     "output_type": "execute_result"
    }
   ],
   "source": [
    "# FEATURE EXTRACTING\n",
    "column_1 = df1.iloc[:,0]\n",
    "column_2 = df1.iloc[:,1]\n",
    "\n",
    "#print (column_2)\n",
    "new_data1 = pd.DataFrame({\"year\": column_1.dt.year,\n",
    "              \"month\": column_1.dt.month,\n",
    "              \"day\": column_1.dt.day,\n",
    "              \"dayofyear\": column_1.dt.dayofyear,\n",
    "              \"weekofyear\": column_1.dt.weekofyear,\n",
    "              \"dayofweek\": column_1.dt.dayofweek,\n",
    "              \"weekday\": column_1.dt.weekday,\n",
    "              \"quarter\": column_1.dt.quarter,\n",
    "              \"Close\": column_2,\n",
    "              \"Date\": column_1,\n",
    "             })\n",
    "\n",
    "new_data1.head(10)"
   ]
  },
  {
   "cell_type": "markdown",
   "metadata": {},
   "source": [
    "# ADDING NEW FEATURE..ASSUME MONDAY & FRIDAY STOCK PRICE MAY BE HIGH.."
   ]
  },
  {
   "cell_type": "code",
   "execution_count": 16,
   "metadata": {},
   "outputs": [
    {
     "data": {
      "text/html": [
       "<div>\n",
       "<style scoped>\n",
       "    .dataframe tbody tr th:only-of-type {\n",
       "        vertical-align: middle;\n",
       "    }\n",
       "\n",
       "    .dataframe tbody tr th {\n",
       "        vertical-align: top;\n",
       "    }\n",
       "\n",
       "    .dataframe thead th {\n",
       "        text-align: right;\n",
       "    }\n",
       "</style>\n",
       "<table border=\"1\" class=\"dataframe\">\n",
       "  <thead>\n",
       "    <tr style=\"text-align: right;\">\n",
       "      <th></th>\n",
       "      <th>year</th>\n",
       "      <th>month</th>\n",
       "      <th>day</th>\n",
       "      <th>dayofyear</th>\n",
       "      <th>weekofyear</th>\n",
       "      <th>dayofweek</th>\n",
       "      <th>weekday</th>\n",
       "      <th>quarter</th>\n",
       "      <th>Close</th>\n",
       "      <th>Date</th>\n",
       "      <th>mon_fri</th>\n",
       "    </tr>\n",
       "  </thead>\n",
       "  <tbody>\n",
       "    <tr>\n",
       "      <td>0</td>\n",
       "      <td>2010</td>\n",
       "      <td>7</td>\n",
       "      <td>21</td>\n",
       "      <td>202</td>\n",
       "      <td>29</td>\n",
       "      <td>2</td>\n",
       "      <td>2</td>\n",
       "      <td>3</td>\n",
       "      <td>121.55</td>\n",
       "      <td>2010-07-21</td>\n",
       "      <td>0</td>\n",
       "    </tr>\n",
       "    <tr>\n",
       "      <td>1</td>\n",
       "      <td>2010</td>\n",
       "      <td>7</td>\n",
       "      <td>22</td>\n",
       "      <td>203</td>\n",
       "      <td>29</td>\n",
       "      <td>3</td>\n",
       "      <td>3</td>\n",
       "      <td>3</td>\n",
       "      <td>120.90</td>\n",
       "      <td>2010-07-22</td>\n",
       "      <td>0</td>\n",
       "    </tr>\n",
       "    <tr>\n",
       "      <td>2</td>\n",
       "      <td>2010</td>\n",
       "      <td>7</td>\n",
       "      <td>23</td>\n",
       "      <td>204</td>\n",
       "      <td>29</td>\n",
       "      <td>4</td>\n",
       "      <td>4</td>\n",
       "      <td>3</td>\n",
       "      <td>120.65</td>\n",
       "      <td>2010-07-23</td>\n",
       "      <td>1</td>\n",
       "    </tr>\n",
       "    <tr>\n",
       "      <td>3</td>\n",
       "      <td>2010</td>\n",
       "      <td>7</td>\n",
       "      <td>26</td>\n",
       "      <td>207</td>\n",
       "      <td>30</td>\n",
       "      <td>0</td>\n",
       "      <td>0</td>\n",
       "      <td>3</td>\n",
       "      <td>117.60</td>\n",
       "      <td>2010-07-26</td>\n",
       "      <td>1</td>\n",
       "    </tr>\n",
       "    <tr>\n",
       "      <td>4</td>\n",
       "      <td>2010</td>\n",
       "      <td>7</td>\n",
       "      <td>27</td>\n",
       "      <td>208</td>\n",
       "      <td>30</td>\n",
       "      <td>1</td>\n",
       "      <td>1</td>\n",
       "      <td>3</td>\n",
       "      <td>118.65</td>\n",
       "      <td>2010-07-27</td>\n",
       "      <td>0</td>\n",
       "    </tr>\n",
       "    <tr>\n",
       "      <td>5</td>\n",
       "      <td>2010</td>\n",
       "      <td>7</td>\n",
       "      <td>28</td>\n",
       "      <td>209</td>\n",
       "      <td>30</td>\n",
       "      <td>2</td>\n",
       "      <td>2</td>\n",
       "      <td>3</td>\n",
       "      <td>118.25</td>\n",
       "      <td>2010-07-28</td>\n",
       "      <td>0</td>\n",
       "    </tr>\n",
       "    <tr>\n",
       "      <td>6</td>\n",
       "      <td>2010</td>\n",
       "      <td>7</td>\n",
       "      <td>29</td>\n",
       "      <td>210</td>\n",
       "      <td>30</td>\n",
       "      <td>3</td>\n",
       "      <td>3</td>\n",
       "      <td>3</td>\n",
       "      <td>116.60</td>\n",
       "      <td>2010-07-29</td>\n",
       "      <td>0</td>\n",
       "    </tr>\n",
       "    <tr>\n",
       "      <td>7</td>\n",
       "      <td>2010</td>\n",
       "      <td>7</td>\n",
       "      <td>30</td>\n",
       "      <td>211</td>\n",
       "      <td>30</td>\n",
       "      <td>4</td>\n",
       "      <td>4</td>\n",
       "      <td>3</td>\n",
       "      <td>116.05</td>\n",
       "      <td>2010-07-30</td>\n",
       "      <td>1</td>\n",
       "    </tr>\n",
       "    <tr>\n",
       "      <td>8</td>\n",
       "      <td>2010</td>\n",
       "      <td>8</td>\n",
       "      <td>2</td>\n",
       "      <td>214</td>\n",
       "      <td>31</td>\n",
       "      <td>0</td>\n",
       "      <td>0</td>\n",
       "      <td>3</td>\n",
       "      <td>117.30</td>\n",
       "      <td>2010-08-02</td>\n",
       "      <td>1</td>\n",
       "    </tr>\n",
       "    <tr>\n",
       "      <td>9</td>\n",
       "      <td>2010</td>\n",
       "      <td>8</td>\n",
       "      <td>3</td>\n",
       "      <td>215</td>\n",
       "      <td>31</td>\n",
       "      <td>1</td>\n",
       "      <td>1</td>\n",
       "      <td>3</td>\n",
       "      <td>118.30</td>\n",
       "      <td>2010-08-03</td>\n",
       "      <td>0</td>\n",
       "    </tr>\n",
       "  </tbody>\n",
       "</table>\n",
       "</div>"
      ],
      "text/plain": [
       "   year  month  day  dayofyear  weekofyear  dayofweek  weekday  quarter  \\\n",
       "0  2010      7   21        202          29          2        2        3   \n",
       "1  2010      7   22        203          29          3        3        3   \n",
       "2  2010      7   23        204          29          4        4        3   \n",
       "3  2010      7   26        207          30          0        0        3   \n",
       "4  2010      7   27        208          30          1        1        3   \n",
       "5  2010      7   28        209          30          2        2        3   \n",
       "6  2010      7   29        210          30          3        3        3   \n",
       "7  2010      7   30        211          30          4        4        3   \n",
       "8  2010      8    2        214          31          0        0        3   \n",
       "9  2010      8    3        215          31          1        1        3   \n",
       "\n",
       "    Close       Date  mon_fri  \n",
       "0  121.55 2010-07-21        0  \n",
       "1  120.90 2010-07-22        0  \n",
       "2  120.65 2010-07-23        1  \n",
       "3  117.60 2010-07-26        1  \n",
       "4  118.65 2010-07-27        0  \n",
       "5  118.25 2010-07-28        0  \n",
       "6  116.60 2010-07-29        0  \n",
       "7  116.05 2010-07-30        1  \n",
       "8  117.30 2010-08-02        1  \n",
       "9  118.30 2010-08-03        0  "
      ]
     },
     "execution_count": 16,
     "metadata": {},
     "output_type": "execute_result"
    }
   ],
   "source": [
    "# Set 0 to mon_fri Column\n",
    "new_data1['mon_fri'] = 0 \n",
    "\n",
    "# FOR MONDAY SET VALUE 1\n",
    "new_data1.loc[new_data1.dayofweek == 0, 'mon_fri'] = 1\n",
    "\n",
    "# FOR FRIDAY SET VALUE 1\n",
    "new_data1.loc[new_data1.dayofweek == 4, 'mon_fri'] = 1\n",
    "\n",
    "new_data1.head(10)"
   ]
  },
  {
   "cell_type": "markdown",
   "metadata": {},
   "source": [
    "# CREATE TRAIN AND TEST DATA FOR 15 DAYS PREDICTION"
   ]
  },
  {
   "cell_type": "code",
   "execution_count": 17,
   "metadata": {},
   "outputs": [
    {
     "name": "stdout",
     "output_type": "stream",
     "text": [
      "X TRAIN DATA  (2085, 9)\n",
      "Y TRAIN DATA  (2085,)\n",
      "X TEST DATA  (15, 9)\n",
      "Y TRAIN DATA  (15,)\n"
     ]
    }
   ],
   "source": [
    "totalrowno = len(new_data1)\n",
    "#print(totalrowno)\n",
    "\n",
    "# Split the data into training/testing sets\n",
    "train = new_data1[:(totalrowno-15)] \n",
    "test = new_data1[(totalrowno-15):] \n",
    "\n",
    "# X_TRAIN WITHOUT CLOSE PRICE AND DATE\n",
    "# TRAIN USING OTHER FEATURES LIKE day,dayofweek......mon_fri\n",
    "x_train = train.drop(['Close','Date'], axis=1) \n",
    "x_test = test.drop(['Close','Date'], axis=1) \n",
    "\n",
    "# Split the targets into training/testing sets\n",
    "y_train = train['Close'] \n",
    "y_test = test['Close']\n",
    "\n",
    "print('X TRAIN DATA ', x_train.shape)\n",
    "print('Y TRAIN DATA ', y_train.shape)\n",
    "print('X TEST DATA ', x_test.shape)\n",
    "print('Y TRAIN DATA ', y_test.shape)"
   ]
  },
  {
   "cell_type": "markdown",
   "metadata": {},
   "source": [
    "# CREATE LINEAR REGRESSION MODEL FOR 15 DAYS PREDICTION"
   ]
  },
  {
   "cell_type": "code",
   "execution_count": 18,
   "metadata": {},
   "outputs": [
    {
     "data": {
      "text/plain": [
       "LinearRegression(copy_X=True, fit_intercept=True, n_jobs=None, normalize=False)"
      ]
     },
     "execution_count": 18,
     "metadata": {},
     "output_type": "execute_result"
    }
   ],
   "source": [
    "#implement linear regression \n",
    "from sklearn.linear_model import LinearRegression \n",
    "\n",
    "# Create linear regression object\n",
    "regression_model_object = LinearRegression() \n",
    "\n",
    "# Train the model using the training sets\n",
    "regression_model_object.fit(x_train,y_train)"
   ]
  },
  {
   "cell_type": "markdown",
   "metadata": {},
   "source": [
    "# 15 DAYS PREDICTION"
   ]
  },
  {
   "cell_type": "code",
   "execution_count": 19,
   "metadata": {},
   "outputs": [],
   "source": [
    "# Make predictions using the testing set\n",
    "# 15 DAYS PREDICTION\n",
    "stcokclose_predict_15days = regression_model_object.predict(x_test)"
   ]
  },
  {
   "cell_type": "code",
   "execution_count": 20,
   "metadata": {},
   "outputs": [
    {
     "data": {
      "text/html": [
       "<div>\n",
       "<style scoped>\n",
       "    .dataframe tbody tr th:only-of-type {\n",
       "        vertical-align: middle;\n",
       "    }\n",
       "\n",
       "    .dataframe tbody tr th {\n",
       "        vertical-align: top;\n",
       "    }\n",
       "\n",
       "    .dataframe thead th {\n",
       "        text-align: right;\n",
       "    }\n",
       "</style>\n",
       "<table border=\"1\" class=\"dataframe\">\n",
       "  <thead>\n",
       "    <tr style=\"text-align: right;\">\n",
       "      <th></th>\n",
       "      <th>Date</th>\n",
       "      <th>Close</th>\n",
       "      <th>PClose</th>\n",
       "    </tr>\n",
       "  </thead>\n",
       "  <tbody>\n",
       "    <tr>\n",
       "      <td>2085</td>\n",
       "      <td>2018-12-14</td>\n",
       "      <td>212.35</td>\n",
       "      <td>212.161507</td>\n",
       "    </tr>\n",
       "    <tr>\n",
       "      <td>2086</td>\n",
       "      <td>2018-12-17</td>\n",
       "      <td>210.05</td>\n",
       "      <td>211.979518</td>\n",
       "    </tr>\n",
       "    <tr>\n",
       "      <td>2087</td>\n",
       "      <td>2018-12-18</td>\n",
       "      <td>210.10</td>\n",
       "      <td>211.742458</td>\n",
       "    </tr>\n",
       "    <tr>\n",
       "      <td>2088</td>\n",
       "      <td>2018-12-19</td>\n",
       "      <td>210.15</td>\n",
       "      <td>211.680515</td>\n",
       "    </tr>\n",
       "    <tr>\n",
       "      <td>2089</td>\n",
       "      <td>2018-12-20</td>\n",
       "      <td>210.20</td>\n",
       "      <td>211.618573</td>\n",
       "    </tr>\n",
       "    <tr>\n",
       "      <td>2090</td>\n",
       "      <td>2018-12-21</td>\n",
       "      <td>215.40</td>\n",
       "      <td>211.731747</td>\n",
       "    </tr>\n",
       "    <tr>\n",
       "      <td>2091</td>\n",
       "      <td>2018-12-24</td>\n",
       "      <td>219.05</td>\n",
       "      <td>211.549758</td>\n",
       "    </tr>\n",
       "    <tr>\n",
       "      <td>2092</td>\n",
       "      <td>2018-12-26</td>\n",
       "      <td>218.55</td>\n",
       "      <td>211.250756</td>\n",
       "    </tr>\n",
       "    <tr>\n",
       "      <td>2093</td>\n",
       "      <td>2018-12-27</td>\n",
       "      <td>220.05</td>\n",
       "      <td>211.188813</td>\n",
       "    </tr>\n",
       "    <tr>\n",
       "      <td>2094</td>\n",
       "      <td>2018-12-28</td>\n",
       "      <td>220.80</td>\n",
       "      <td>211.301988</td>\n",
       "    </tr>\n",
       "    <tr>\n",
       "      <td>2095</td>\n",
       "      <td>2018-12-31</td>\n",
       "      <td>219.40</td>\n",
       "      <td>216.164208</td>\n",
       "    </tr>\n",
       "    <tr>\n",
       "      <td>2096</td>\n",
       "      <td>2019-01-01</td>\n",
       "      <td>219.10</td>\n",
       "      <td>210.275988</td>\n",
       "    </tr>\n",
       "    <tr>\n",
       "      <td>2097</td>\n",
       "      <td>2019-01-02</td>\n",
       "      <td>214.60</td>\n",
       "      <td>210.214046</td>\n",
       "    </tr>\n",
       "    <tr>\n",
       "      <td>2098</td>\n",
       "      <td>2019-01-03</td>\n",
       "      <td>210.05</td>\n",
       "      <td>210.152103</td>\n",
       "    </tr>\n",
       "    <tr>\n",
       "      <td>2099</td>\n",
       "      <td>2019-01-04</td>\n",
       "      <td>213.80</td>\n",
       "      <td>210.265277</td>\n",
       "    </tr>\n",
       "  </tbody>\n",
       "</table>\n",
       "</div>"
      ],
      "text/plain": [
       "           Date   Close      PClose\n",
       "2085 2018-12-14  212.35  212.161507\n",
       "2086 2018-12-17  210.05  211.979518\n",
       "2087 2018-12-18  210.10  211.742458\n",
       "2088 2018-12-19  210.15  211.680515\n",
       "2089 2018-12-20  210.20  211.618573\n",
       "2090 2018-12-21  215.40  211.731747\n",
       "2091 2018-12-24  219.05  211.549758\n",
       "2092 2018-12-26  218.55  211.250756\n",
       "2093 2018-12-27  220.05  211.188813\n",
       "2094 2018-12-28  220.80  211.301988\n",
       "2095 2018-12-31  219.40  216.164208\n",
       "2096 2019-01-01  219.10  210.275988\n",
       "2097 2019-01-02  214.60  210.214046\n",
       "2098 2019-01-03  210.05  210.152103\n",
       "2099 2019-01-04  213.80  210.265277"
      ]
     },
     "execution_count": 20,
     "metadata": {},
     "output_type": "execute_result"
    }
   ],
   "source": [
    "df_15days = new_data1.loc[(len(new_data1) - 15):,['Date','Close']]\n",
    "df_15days['PClose'] = stcokclose_predict_15days[(len(stcokclose_predict_15days) - 15):]\n",
    "df_15days.head(15)\n",
    "#df_15days.to_csv('2.1.LinearRegression15DaysPrediction.csv')"
   ]
  },
  {
   "cell_type": "markdown",
   "metadata": {},
   "source": [
    "# ERROR CLACULATION"
   ]
  },
  {
   "cell_type": "code",
   "execution_count": 21,
   "metadata": {},
   "outputs": [
    {
     "name": "stdout",
     "output_type": "stream",
     "text": [
      "15 DAYS LINEAR REGRESSION MODEL- RMSE VALUE  5.307902409333924\n"
     ]
    }
   ],
   "source": [
    "x = np.power((np.array(df_15days['Close'])-df_15days['PClose']),2)\n",
    "mse = np.mean(x)\n",
    "rmse = np.sqrt(mse)\n",
    "print ('15 DAYS LINEAR REGRESSION MODEL- RMSE VALUE ', rmse)"
   ]
  },
  {
   "cell_type": "code",
   "execution_count": 22,
   "metadata": {},
   "outputs": [
    {
     "data": {
      "text/plain": [
       "<matplotlib.legend.Legend at 0x1f91209b808>"
      ]
     },
     "execution_count": 22,
     "metadata": {},
     "output_type": "execute_result"
    },
    {
     "data": {
      "image/png": "[encoded data removed]",
      "text/plain": [
       "<Figure size 720x360 with 1 Axes>"
      ]
     },
     "metadata": {},
     "output_type": "display_data"
    }
   ],
   "source": [
    "# Plot everything by leveraging the very powerful matplotlib package\n",
    "fig, ax = plt.subplots(figsize=(10,5))\n",
    "\n",
    "ax.plot(df_15days['Date'],df_15days['Close'], label='Original Closeing Price')\n",
    "ax.plot(df_15days['Date'],df_15days['PClose'], label='15 Days Prediction')\n",
    "\n",
    "ax.set_xlabel('TIME',fontsize=14, color='r')\n",
    "ax.set_ylabel('SHARE CLOSING PRICE',fontsize=14, color='r')\n",
    "ax.set_title('Original Closing Share Price VS Predict Closing Price', fontsize=20, color='g')\n",
    "ax.legend()"
   ]
  },
  {
   "cell_type": "markdown",
   "metadata": {},
   "source": [
    "# CREATE TRAIN AND TEST DATA FOR 45 DAYS PREDICTION"
   ]
  },
  {
   "cell_type": "code",
   "execution_count": 23,
   "metadata": {},
   "outputs": [
    {
     "name": "stdout",
     "output_type": "stream",
     "text": [
      "X TRAIN DATA  (2055, 9)\n",
      "Y TRAIN DATA  (2055,)\n",
      "X TEST DATA  (45, 9)\n",
      "Y TRAIN DATA  (45,)\n"
     ]
    }
   ],
   "source": [
    "totalrowno = len(new_data1)\n",
    "#print(totalrowno)\n",
    "\n",
    "# Split the data into training/testing sets\n",
    "train = new_data1[:(totalrowno-45)] \n",
    "test = new_data1[(totalrowno-45):] \n",
    "\n",
    "# X_TRAIN WITHOUT CLOSE PRICE AND DATE\n",
    "# TRAIN USING OTHER FEATURES LIKE day,dayofweek......mon_fri\n",
    "x_train = train.drop(['Close','Date'], axis=1) \n",
    "x_test = test.drop(['Close','Date'], axis=1) \n",
    "\n",
    "# Split the targets into training/testing sets\n",
    "y_train = train['Close'] \n",
    "y_test = test['Close']\n",
    "\n",
    "print('X TRAIN DATA ', x_train.shape)\n",
    "print('Y TRAIN DATA ', y_train.shape)\n",
    "print('X TEST DATA ', x_test.shape)\n",
    "print('Y TRAIN DATA ', y_test.shape)"
   ]
  },
  {
   "cell_type": "markdown",
   "metadata": {},
   "source": [
    "# CREATE LINEAR REGRESSION MODEL FOR 45 DAYS PREDICTION"
   ]
  },
  {
   "cell_type": "code",
   "execution_count": 24,
   "metadata": {},
   "outputs": [
    {
     "data": {
      "text/plain": [
       "LinearRegression(copy_X=True, fit_intercept=True, n_jobs=None, normalize=False)"
      ]
     },
     "execution_count": 24,
     "metadata": {},
     "output_type": "execute_result"
    }
   ],
   "source": [
    "#implement linear regression \n",
    "from sklearn.linear_model import LinearRegression \n",
    "\n",
    "# Create linear regression object\n",
    "regression_model_object = LinearRegression() \n",
    "\n",
    "# Train the model using the training sets\n",
    "regression_model_object.fit(x_train,y_train)"
   ]
  },
  {
   "cell_type": "markdown",
   "metadata": {},
   "source": [
    "# 45 DAYS PREDICTION"
   ]
  },
  {
   "cell_type": "code",
   "execution_count": 25,
   "metadata": {},
   "outputs": [],
   "source": [
    "# Make predictions using the testing set\n",
    "stcokclose_predict_45days = regression_model_object.predict(x_test)"
   ]
  },
  {
   "cell_type": "code",
   "execution_count": 26,
   "metadata": {},
   "outputs": [
    {
     "data": {
      "text/html": [
       "<div>\n",
       "<style scoped>\n",
       "    .dataframe tbody tr th:only-of-type {\n",
       "        vertical-align: middle;\n",
       "    }\n",
       "\n",
       "    .dataframe tbody tr th {\n",
       "        vertical-align: top;\n",
       "    }\n",
       "\n",
       "    .dataframe thead th {\n",
       "        text-align: right;\n",
       "    }\n",
       "</style>\n",
       "<table border=\"1\" class=\"dataframe\">\n",
       "  <thead>\n",
       "    <tr style=\"text-align: right;\">\n",
       "      <th></th>\n",
       "      <th>Date</th>\n",
       "      <th>Close</th>\n",
       "      <th>PClose</th>\n",
       "    </tr>\n",
       "  </thead>\n",
       "  <tbody>\n",
       "    <tr>\n",
       "      <td>2055</td>\n",
       "      <td>2018-10-31</td>\n",
       "      <td>217.85</td>\n",
       "      <td>214.024489</td>\n",
       "    </tr>\n",
       "    <tr>\n",
       "      <td>2056</td>\n",
       "      <td>2018-11-01</td>\n",
       "      <td>217.75</td>\n",
       "      <td>211.959432</td>\n",
       "    </tr>\n",
       "    <tr>\n",
       "      <td>2057</td>\n",
       "      <td>2018-11-02</td>\n",
       "      <td>217.65</td>\n",
       "      <td>212.076390</td>\n",
       "    </tr>\n",
       "    <tr>\n",
       "      <td>2058</td>\n",
       "      <td>2018-11-05</td>\n",
       "      <td>219.85</td>\n",
       "      <td>211.892547</td>\n",
       "    </tr>\n",
       "    <tr>\n",
       "      <td>2059</td>\n",
       "      <td>2018-11-06</td>\n",
       "      <td>213.80</td>\n",
       "      <td>211.640225</td>\n",
       "    </tr>\n",
       "  </tbody>\n",
       "</table>\n",
       "</div>"
      ],
      "text/plain": [
       "           Date   Close      PClose\n",
       "2055 2018-10-31  217.85  214.024489\n",
       "2056 2018-11-01  217.75  211.959432\n",
       "2057 2018-11-02  217.65  212.076390\n",
       "2058 2018-11-05  219.85  211.892547\n",
       "2059 2018-11-06  213.80  211.640225"
      ]
     },
     "execution_count": 26,
     "metadata": {},
     "output_type": "execute_result"
    }
   ],
   "source": [
    "df_45days = new_data1.loc[(len(new_data1) - 45):,['Date','Close']]\n",
    "df_45days['PClose'] = stcokclose_predict_45days[(len(stcokclose_predict_45days) - 45):]\n",
    "df_45days.head()\n",
    "#df_45days.to_csv('2.2.LinearRegression45DaysPrediction.csv')"
   ]
  },
  {
   "cell_type": "markdown",
   "metadata": {},
   "source": [
    "# ERROR CLACULATION"
   ]
  },
  {
   "cell_type": "code",
   "execution_count": 27,
   "metadata": {},
   "outputs": [
    {
     "name": "stdout",
     "output_type": "stream",
     "text": [
      "45 DAYS LINEAR REGRESSION MODEL- RMSE VALUE  6.473754230605425\n"
     ]
    }
   ],
   "source": [
    "x = np.power((np.array(df_45days['Close'])-df_45days['PClose']),2)\n",
    "mse = np.mean(x)\n",
    "rmse = np.sqrt(mse)\n",
    "print ('45 DAYS LINEAR REGRESSION MODEL- RMSE VALUE ', rmse)"
   ]
  },
  {
   "cell_type": "code",
   "execution_count": 28,
   "metadata": {},
   "outputs": [
    {
     "data": {
      "text/plain": [
       "<matplotlib.legend.Legend at 0x1f91213ec48>"
      ]
     },
     "execution_count": 28,
     "metadata": {},
     "output_type": "execute_result"
    },
    {
     "data": {
      "image/png": "[encoded data removed]",
      "text/plain": [
       "<Figure size 720x360 with 1 Axes>"
      ]
     },
     "metadata": {},
     "output_type": "display_data"
    }
   ],
   "source": [
    "# Plot everything by leveraging the very powerful matplotlib package\n",
    "fig, ax = plt.subplots(figsize=(10,5))\n",
    "\n",
    "ax.plot(df_45days['Date'],df_45days['Close'], label='Original Closeing Price')\n",
    "ax.plot(df_45days['Date'],df_45days['PClose'], label='45 Days Prediction')\n",
    "\n",
    "ax.set_xlabel('TIME',fontsize=14, color='r')\n",
    "ax.set_ylabel('SHARE CLOSING PRICE',fontsize=14, color='r')\n",
    "ax.set_title('Original Closing Share Price VS Predict Closing Price', fontsize=20, color='g')\n",
    "ax.legend()"
   ]
  },
  {
   "cell_type": "markdown",
   "metadata": {},
   "source": [
    "# CREATE TRAIN AND TEST DATA FOR 90 DAYS PREDICTION"
   ]
  },
  {
   "cell_type": "code",
   "execution_count": 29,
   "metadata": {},
   "outputs": [
    {
     "name": "stdout",
     "output_type": "stream",
     "text": [
      "X TRAIN DATA  (2010, 9)\n",
      "Y TRAIN DATA  (2010,)\n",
      "X TEST DATA  (90, 9)\n",
      "Y TRAIN DATA  (90,)\n"
     ]
    }
   ],
   "source": [
    "totalrowno = len(new_data1)\n",
    "#print(totalrowno)\n",
    "\n",
    "# Split the data into training/testing sets\n",
    "train = new_data1[:(totalrowno-90)] \n",
    "test = new_data1[(totalrowno-90):] \n",
    "\n",
    "# X_TRAIN WITHOUT CLOSE PRICE AND DATE\n",
    "# TRAIN USING OTHER FEATURES LIKE day,dayofweek......mon_fri\n",
    "x_train = train.drop(['Close','Date'], axis=1) \n",
    "x_test = test.drop(['Close','Date'], axis=1) \n",
    "\n",
    "# Split the targets into training/testing sets\n",
    "y_train = train['Close'] \n",
    "y_test = test['Close']\n",
    "\n",
    "print('X TRAIN DATA ', x_train.shape)\n",
    "print('Y TRAIN DATA ', y_train.shape)\n",
    "print('X TEST DATA ', x_test.shape)\n",
    "print('Y TRAIN DATA ', y_test.shape)"
   ]
  },
  {
   "cell_type": "markdown",
   "metadata": {},
   "source": [
    "# CREATE LINEAR REGRESSION MODEL FOR 90 DAYS PREDICTION"
   ]
  },
  {
   "cell_type": "code",
   "execution_count": 30,
   "metadata": {},
   "outputs": [
    {
     "data": {
      "text/plain": [
       "LinearRegression(copy_X=True, fit_intercept=True, n_jobs=None, normalize=False)"
      ]
     },
     "execution_count": 30,
     "metadata": {},
     "output_type": "execute_result"
    }
   ],
   "source": [
    "#implement linear regression \n",
    "from sklearn.linear_model import LinearRegression \n",
    "\n",
    "# Create linear regression object\n",
    "regression_model_object = LinearRegression() \n",
    "\n",
    "# Train the model using the training sets\n",
    "regression_model_object.fit(x_train,y_train)"
   ]
  },
  {
   "cell_type": "markdown",
   "metadata": {},
   "source": [
    "# 90 DAYS PREDICTION"
   ]
  },
  {
   "cell_type": "code",
   "execution_count": 31,
   "metadata": {},
   "outputs": [],
   "source": [
    "# Make predictions using the testing set\n",
    "stcokclose_predict_90days = regression_model_object.predict(x_test)"
   ]
  },
  {
   "cell_type": "code",
   "execution_count": 32,
   "metadata": {},
   "outputs": [
    {
     "data": {
      "text/html": [
       "<div>\n",
       "<style scoped>\n",
       "    .dataframe tbody tr th:only-of-type {\n",
       "        vertical-align: middle;\n",
       "    }\n",
       "\n",
       "    .dataframe tbody tr th {\n",
       "        vertical-align: top;\n",
       "    }\n",
       "\n",
       "    .dataframe thead th {\n",
       "        text-align: right;\n",
       "    }\n",
       "</style>\n",
       "<table border=\"1\" class=\"dataframe\">\n",
       "  <thead>\n",
       "    <tr style=\"text-align: right;\">\n",
       "      <th></th>\n",
       "      <th>Date</th>\n",
       "      <th>Close</th>\n",
       "      <th>PClose</th>\n",
       "    </tr>\n",
       "  </thead>\n",
       "  <tbody>\n",
       "    <tr>\n",
       "      <td>2010</td>\n",
       "      <td>2018-08-23</td>\n",
       "      <td>235.45</td>\n",
       "      <td>206.624676</td>\n",
       "    </tr>\n",
       "    <tr>\n",
       "      <td>2011</td>\n",
       "      <td>2018-08-24</td>\n",
       "      <td>231.00</td>\n",
       "      <td>206.636150</td>\n",
       "    </tr>\n",
       "    <tr>\n",
       "      <td>2012</td>\n",
       "      <td>2018-08-27</td>\n",
       "      <td>237.05</td>\n",
       "      <td>206.335164</td>\n",
       "    </tr>\n",
       "    <tr>\n",
       "      <td>2013</td>\n",
       "      <td>2018-08-28</td>\n",
       "      <td>233.35</td>\n",
       "      <td>206.179219</td>\n",
       "    </tr>\n",
       "    <tr>\n",
       "      <td>2014</td>\n",
       "      <td>2018-08-29</td>\n",
       "      <td>234.55</td>\n",
       "      <td>206.106984</td>\n",
       "    </tr>\n",
       "  </tbody>\n",
       "</table>\n",
       "</div>"
      ],
      "text/plain": [
       "           Date   Close      PClose\n",
       "2010 2018-08-23  235.45  206.624676\n",
       "2011 2018-08-24  231.00  206.636150\n",
       "2012 2018-08-27  237.05  206.335164\n",
       "2013 2018-08-28  233.35  206.179219\n",
       "2014 2018-08-29  234.55  206.106984"
      ]
     },
     "execution_count": 32,
     "metadata": {},
     "output_type": "execute_result"
    }
   ],
   "source": [
    "df_90days = new_data1.loc[(len(new_data1) - 90):,['Date','Close']]\n",
    "df_90days['PClose'] = stcokclose_predict_90days[(len(stcokclose_predict_90days) - 90):]\n",
    "df_90days.head()\n",
    "#df_90days.to_csv('2.3.LinearRegression90DaysPrediction.csv')"
   ]
  },
  {
   "cell_type": "markdown",
   "metadata": {},
   "source": [
    "# ERROR CLACULATION"
   ]
  },
  {
   "cell_type": "code",
   "execution_count": 33,
   "metadata": {},
   "outputs": [
    {
     "name": "stdout",
     "output_type": "stream",
     "text": [
      "90 DAYS LINEAR REGRESSION MODEL- RMSE VALUE  16.732867796066845\n"
     ]
    }
   ],
   "source": [
    "x = np.power((np.array(df_90days['Close'])-df_90days['PClose']),2)\n",
    "mse = np.mean(x)\n",
    "rmse = np.sqrt(mse)\n",
    "print ('90 DAYS LINEAR REGRESSION MODEL- RMSE VALUE ', rmse)"
   ]
  },
  {
   "cell_type": "code",
   "execution_count": 34,
   "metadata": {},
   "outputs": [
    {
     "data": {
      "text/plain": [
       "<matplotlib.legend.Legend at 0x1f9121996c8>"
      ]
     },
     "execution_count": 34,
     "metadata": {},
     "output_type": "execute_result"
    },
    {
     "data": {
      "image/png": "[encoded data removed]",
      "text/plain": [
       "<Figure size 1152x360 with 1 Axes>"
      ]
     },
     "metadata": {},
     "output_type": "display_data"
    }
   ],
   "source": [
    "# Plot everything by leveraging the very powerful matplotlib package\n",
    "fig, ax = plt.subplots(figsize=(16,5))\n",
    "\n",
    "ax.plot(df_90days['Date'],df_90days['Close'], label='Original Closeing Price')\n",
    "ax.plot(df_90days['Date'],df_90days['PClose'], label='90 Days Prediction')\n",
    "\n",
    "ax.set_xlabel('TIME',fontsize=14, color='r')\n",
    "ax.set_ylabel('SHARE CLOSING PRICE',fontsize=14, color='r')\n",
    "ax.set_title('Original Closing Share Price VS Predict Closing Price', fontsize=20, color='g')\n",
    "ax.legend()"
   ]
  }
 ],
 "metadata": {
  "kernelspec": {
   "display_name": "Python 3",
   "language": "python",
   "name": "python3"
  },
  "language_info": {
   "codemirror_mode": {
    "name": "ipython",
    "version": 3
   },
   "file_extension": ".py",
   "mimetype": "text/x-python",
   "name": "python",
   "nbconvert_exporter": "python",
   "pygments_lexer": "ipython3",
   "version": "3.7.1"
  }
 },
 "nbformat": 4,
 "nbformat_minor": 2
}
